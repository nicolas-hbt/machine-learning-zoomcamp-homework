{
 "cells": [
  {
   "cell_type": "code",
   "id": "initial_id",
   "metadata": {
    "collapsed": true,
    "ExecuteTime": {
     "end_time": "2025-09-29T15:23:30.050222Z",
     "start_time": "2025-09-29T15:23:27.820863Z"
    }
   },
   "source": [
    "import pandas as pd\n",
    "pd.__version__"
   ],
   "outputs": [
    {
     "data": {
      "text/plain": [
       "'2.2.3'"
      ]
     },
     "execution_count": 2,
     "metadata": {},
     "output_type": "execute_result"
    }
   ],
   "execution_count": 2
  },
  {
   "metadata": {
    "ExecuteTime": {
     "end_time": "2025-09-29T15:24:34.211445Z",
     "start_time": "2025-09-29T15:24:34.183313Z"
    }
   },
   "cell_type": "code",
   "source": "df = pd.read_csv(\"car_fuel_efficiency.csv\")",
   "id": "cefc605f4caecee",
   "outputs": [],
   "execution_count": 3
  },
  {
   "metadata": {
    "ExecuteTime": {
     "end_time": "2025-09-29T15:24:44.286293Z",
     "start_time": "2025-09-29T15:24:44.282534Z"
    }
   },
   "cell_type": "code",
   "source": "df.shape",
   "id": "622210d7843692c7",
   "outputs": [
    {
     "data": {
      "text/plain": [
       "(9704, 11)"
      ]
     },
     "execution_count": 5,
     "metadata": {},
     "output_type": "execute_result"
    }
   ],
   "execution_count": 5
  },
  {
   "metadata": {
    "ExecuteTime": {
     "end_time": "2025-09-29T15:25:00.427334Z",
     "start_time": "2025-09-29T15:25:00.417620Z"
    }
   },
   "cell_type": "code",
   "source": "df.columns",
   "id": "c1ef2a4c96ec50fe",
   "outputs": [
    {
     "data": {
      "text/plain": [
       "Index(['engine_displacement', 'num_cylinders', 'horsepower', 'vehicle_weight',\n",
       "       'acceleration', 'model_year', 'origin', 'fuel_type', 'drivetrain',\n",
       "       'num_doors', 'fuel_efficiency_mpg'],\n",
       "      dtype='object')"
      ]
     },
     "execution_count": 6,
     "metadata": {},
     "output_type": "execute_result"
    }
   ],
   "execution_count": 6
  },
  {
   "metadata": {
    "ExecuteTime": {
     "end_time": "2025-09-29T15:25:17.125889Z",
     "start_time": "2025-09-29T15:25:17.121032Z"
    }
   },
   "cell_type": "code",
   "source": "df[\"fuel_type\"].unique()",
   "id": "c0042a9302eecd00",
   "outputs": [
    {
     "data": {
      "text/plain": [
       "array(['Gasoline', 'Diesel'], dtype=object)"
      ]
     },
     "execution_count": 8,
     "metadata": {},
     "output_type": "execute_result"
    }
   ],
   "execution_count": 8
  },
  {
   "metadata": {
    "ExecuteTime": {
     "end_time": "2025-09-29T15:25:55.117682Z",
     "start_time": "2025-09-29T15:25:55.104891Z"
    }
   },
   "cell_type": "code",
   "source": "df.isnull().sum()",
   "id": "bc141dddb60a4243",
   "outputs": [
    {
     "data": {
      "text/plain": [
       "engine_displacement      0\n",
       "num_cylinders          482\n",
       "horsepower             708\n",
       "vehicle_weight           0\n",
       "acceleration           930\n",
       "model_year               0\n",
       "origin                   0\n",
       "fuel_type                0\n",
       "drivetrain               0\n",
       "num_doors              502\n",
       "fuel_efficiency_mpg      0\n",
       "dtype: int64"
      ]
     },
     "execution_count": 11,
     "metadata": {},
     "output_type": "execute_result"
    }
   ],
   "execution_count": 11
  },
  {
   "metadata": {
    "ExecuteTime": {
     "end_time": "2025-09-29T15:27:07.940599Z",
     "start_time": "2025-09-29T15:27:07.920063Z"
    }
   },
   "cell_type": "code",
   "source": "df[df[\"origin\"] == \"Asia\"][\"fuel_efficiency_mpg\"].max()",
   "id": "8b4def6656df5750",
   "outputs": [
    {
     "data": {
      "text/plain": [
       "np.float64(23.759122836520497)"
      ]
     },
     "execution_count": 14,
     "metadata": {},
     "output_type": "execute_result"
    }
   ],
   "execution_count": 14
  },
  {
   "metadata": {
    "ExecuteTime": {
     "end_time": "2025-09-29T15:28:39.998395Z",
     "start_time": "2025-09-29T15:28:39.973670Z"
    }
   },
   "cell_type": "code",
   "source": [
    "median_horsepower = df[\"horsepower\"].median()\n",
    "most_frequent_horsepower = df[\"horsepower\"].mode()[0]\n",
    "df[\"horsepower\"].fillna(most_frequent_horsepower, inplace=True)\n",
    "new_median_horsepower = df[\"horsepower\"].median()"
   ],
   "id": "eeb5f7549126fa14",
   "outputs": [
    {
     "name": "stderr",
     "output_type": "stream",
     "text": [
      "/var/folders/x6/srmjkp051pnd1bhqsxvsmbs80000gn/T/ipykernel_42943/3963259510.py:7: FutureWarning: A value is trying to be set on a copy of a DataFrame or Series through chained assignment using an inplace method.\n",
      "The behavior will change in pandas 3.0. This inplace method will never work because the intermediate object on which we are setting values always behaves as a copy.\n",
      "\n",
      "For example, when doing 'df[col].method(value, inplace=True)', try using 'df.method({col: value}, inplace=True)' or df[col] = df[col].method(value) instead, to perform the operation inplace on the original object.\n",
      "\n",
      "\n",
      "  df[\"horsepower\"].fillna(most_frequent_horsepower, inplace=True)\n"
     ]
    }
   ],
   "execution_count": 15
  },
  {
   "metadata": {
    "ExecuteTime": {
     "end_time": "2025-09-29T15:28:56.056408Z",
     "start_time": "2025-09-29T15:28:56.049228Z"
    }
   },
   "cell_type": "code",
   "source": [
    "print(median_horsepower)\n",
    "print(new_median_horsepower)"
   ],
   "id": "67101b0704372f3",
   "outputs": [
    {
     "name": "stdout",
     "output_type": "stream",
     "text": [
      "149.0\n",
      "152.0\n"
     ]
    }
   ],
   "execution_count": 16
  },
  {
   "metadata": {
    "ExecuteTime": {
     "end_time": "2025-09-29T15:31:31.639548Z",
     "start_time": "2025-09-29T15:31:31.591855Z"
    }
   },
   "cell_type": "code",
   "source": [
    "import numpy as np\n",
    "\n",
    "X = df[df[\"origin\"] == \"Asia\"][[\"vehicle_weight\", \"model_year\"]].values[:7]\n",
    "XTX = X.T @ X\n",
    "XTX_inv = np.linalg.inv(XTX)\n",
    "y = np.array([1100, 1300, 800, 900, 1000, 1100, 1200])\n",
    "w = XTX_inv @ X.T @ y\n",
    "w.sum()"
   ],
   "id": "52fd8be158ae9c99",
   "outputs": [
    {
     "data": {
      "text/plain": [
       "np.float64(0.5187709081074006)"
      ]
     },
     "execution_count": 20,
     "metadata": {},
     "output_type": "execute_result"
    }
   ],
   "execution_count": 20
  },
  {
   "metadata": {},
   "cell_type": "code",
   "outputs": [],
   "execution_count": null,
   "source": "",
   "id": "12672ce7912d06bd"
  }
 ],
 "metadata": {
  "kernelspec": {
   "display_name": "Python 3",
   "language": "python",
   "name": "python3"
  },
  "language_info": {
   "codemirror_mode": {
    "name": "ipython",
    "version": 2
   },
   "file_extension": ".py",
   "mimetype": "text/x-python",
   "name": "python",
   "nbconvert_exporter": "python",
   "pygments_lexer": "ipython2",
   "version": "2.7.6"
  }
 },
 "nbformat": 4,
 "nbformat_minor": 5
}
